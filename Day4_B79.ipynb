{
 "cells": [
  {
   "cell_type": "code",
   "execution_count": null,
   "id": "51fce243",
   "metadata": {},
   "outputs": [],
   "source": [
    "Introduction to list datatype:"
   ]
  },
  {
   "cell_type": "code",
   "execution_count": null,
   "id": "89db8325",
   "metadata": {},
   "outputs": [],
   "source": [
    "Defination : a list is a conllection of item declared in a particular order\n",
    "    Classification : It is classified as a mutable datatpes\n",
    "        how to difine the list ..............? []"
   ]
  },
  {
   "cell_type": "code",
   "execution_count": 6,
   "id": "c06369c6",
   "metadata": {},
   "outputs": [],
   "source": [
    "students = ['vintho','ramya','ayesha','sara','david','naveen','ahmed']"
   ]
  },
  {
   "cell_type": "code",
   "execution_count": 7,
   "id": "906f9592",
   "metadata": {},
   "outputs": [
    {
     "name": "stdout",
     "output_type": "stream",
     "text": [
      "['vintho', 'ramya', 'ayesha', 'sara', 'david', 'naveen', 'ahmed']\n"
     ]
    }
   ],
   "source": [
    "print(students)"
   ]
  },
  {
   "cell_type": "code",
   "execution_count": 8,
   "id": "3a698384",
   "metadata": {},
   "outputs": [
    {
     "data": {
      "text/plain": [
       "list"
      ]
     },
     "execution_count": 8,
     "metadata": {},
     "output_type": "execute_result"
    }
   ],
   "source": [
    "type(students)"
   ]
  },
  {
   "cell_type": "code",
   "execution_count": null,
   "id": "bc2903d1",
   "metadata": {},
   "outputs": [],
   "source": [
    "intuduction to the indexing : 0,1,2,3,4,5,6............."
   ]
  },
  {
   "cell_type": "code",
   "execution_count": 10,
   "id": "f1c4ef3b",
   "metadata": {},
   "outputs": [],
   "source": [
    "# i want to access ramya name on the output......?"
   ]
  },
  {
   "cell_type": "code",
   "execution_count": 11,
   "id": "bc7f4758",
   "metadata": {},
   "outputs": [
    {
     "name": "stdout",
     "output_type": "stream",
     "text": [
      "ramya\n"
     ]
    }
   ],
   "source": [
    "print(students[1])"
   ]
  },
  {
   "cell_type": "code",
   "execution_count": 12,
   "id": "b4d34e9f",
   "metadata": {},
   "outputs": [
    {
     "name": "stdout",
     "output_type": "stream",
     "text": [
      "Ramya\n"
     ]
    }
   ],
   "source": [
    "print(students[1].title())"
   ]
  },
  {
   "cell_type": "code",
   "execution_count": null,
   "id": "feb59d9e",
   "metadata": {},
   "outputs": [],
   "source": [
    "sara name on the output"
   ]
  },
  {
   "cell_type": "code",
   "execution_count": 14,
   "id": "37fea8f8",
   "metadata": {},
   "outputs": [
    {
     "name": "stdout",
     "output_type": "stream",
     "text": [
      "Sara\n"
     ]
    }
   ],
   "source": [
    "print(students[3].title())"
   ]
  },
  {
   "cell_type": "code",
   "execution_count": 15,
   "id": "c4f4aa87",
   "metadata": {},
   "outputs": [
    {
     "name": "stdout",
     "output_type": "stream",
     "text": [
      "['vintho', 'ramya', 'ayesha', 'sara', 'david', 'naveen', 'ahmed']\n"
     ]
    }
   ],
   "source": [
    "print(students)"
   ]
  },
  {
   "cell_type": "code",
   "execution_count": null,
   "id": "9debe5af",
   "metadata": {},
   "outputs": [],
   "source": [
    "# req : I want to add kunal in above list....?"
   ]
  },
  {
   "cell_type": "code",
   "execution_count": null,
   "id": "2949edbf",
   "metadata": {},
   "outputs": [],
   "source": []
  },
  {
   "cell_type": "code",
   "execution_count": null,
   "id": "9bb1107a",
   "metadata": {},
   "outputs": [],
   "source": []
  },
  {
   "cell_type": "code",
   "execution_count": null,
   "id": "3f699399",
   "metadata": {},
   "outputs": [],
   "source": []
  },
  {
   "cell_type": "code",
   "execution_count": null,
   "id": "3dbcddb6",
   "metadata": {},
   "outputs": [],
   "source": []
  },
  {
   "cell_type": "code",
   "execution_count": null,
   "id": "0e6ea608",
   "metadata": {},
   "outputs": [],
   "source": []
  },
  {
   "cell_type": "code",
   "execution_count": 18,
   "id": "479256d4",
   "metadata": {},
   "outputs": [],
   "source": [
    "students.append('kunal')"
   ]
  },
  {
   "cell_type": "code",
   "execution_count": 19,
   "id": "7c840615",
   "metadata": {},
   "outputs": [
    {
     "name": "stdout",
     "output_type": "stream",
     "text": [
      "['vintho', 'ramya', 'ayesha', 'sara', 'david', 'naveen', 'ahmed', 'kunal']\n"
     ]
    }
   ],
   "source": [
    "print(students)"
   ]
  },
  {
   "cell_type": "code",
   "execution_count": null,
   "id": "57c76f5c",
   "metadata": {},
   "outputs": [],
   "source": [
    "I want to add kalyani"
   ]
  },
  {
   "cell_type": "code",
   "execution_count": 20,
   "id": "95359a2e",
   "metadata": {},
   "outputs": [],
   "source": [
    "students.append('kalyani')"
   ]
  },
  {
   "cell_type": "code",
   "execution_count": 21,
   "id": "222bcf65",
   "metadata": {},
   "outputs": [
    {
     "name": "stdout",
     "output_type": "stream",
     "text": [
      "['vintho', 'ramya', 'ayesha', 'sara', 'david', 'naveen', 'ahmed', 'kunal', 'kalyani']\n"
     ]
    }
   ],
   "source": [
    "print(students)"
   ]
  },
  {
   "cell_type": "code",
   "execution_count": 22,
   "id": "7f535cc4",
   "metadata": {},
   "outputs": [],
   "source": [
    "y = students.pop(1)"
   ]
  },
  {
   "cell_type": "code",
   "execution_count": 23,
   "id": "8ad38ce9",
   "metadata": {},
   "outputs": [
    {
     "name": "stdout",
     "output_type": "stream",
     "text": [
      "['vintho', 'ayesha', 'sara', 'david', 'naveen', 'ahmed', 'kunal', 'kalyani']\n"
     ]
    }
   ],
   "source": [
    "print(students)"
   ]
  },
  {
   "cell_type": "code",
   "execution_count": 24,
   "id": "a8da56a1",
   "metadata": {},
   "outputs": [
    {
     "name": "stdout",
     "output_type": "stream",
     "text": [
      "ramya\n"
     ]
    }
   ],
   "source": [
    "print(y)"
   ]
  },
  {
   "cell_type": "code",
   "execution_count": null,
   "id": "793a5555",
   "metadata": {},
   "outputs": [],
   "source": [
    "I want to delete vani"
   ]
  },
  {
   "cell_type": "code",
   "execution_count": 29,
   "id": "4f8b1cac",
   "metadata": {},
   "outputs": [],
   "source": [
    "del students[0]"
   ]
  },
  {
   "cell_type": "code",
   "execution_count": 30,
   "id": "3bd1541e",
   "metadata": {},
   "outputs": [
    {
     "name": "stdout",
     "output_type": "stream",
     "text": [
      "['ayesha', 'sara', 'david', 'naveen', 'ahmed', 'kunal', 'kalyani']\n"
     ]
    }
   ],
   "source": [
    "print(students)"
   ]
  },
  {
   "cell_type": "code",
   "execution_count": null,
   "id": "4d0afedc",
   "metadata": {},
   "outputs": [],
   "source": []
  }
 ],
 "metadata": {
  "kernelspec": {
   "display_name": "Python 3 (ipykernel)",
   "language": "python",
   "name": "python3"
  },
  "language_info": {
   "codemirror_mode": {
    "name": "ipython",
    "version": 3
   },
   "file_extension": ".py",
   "mimetype": "text/x-python",
   "name": "python",
   "nbconvert_exporter": "python",
   "pygments_lexer": "ipython3",
   "version": "3.10.9"
  }
 },
 "nbformat": 4,
 "nbformat_minor": 5
}
