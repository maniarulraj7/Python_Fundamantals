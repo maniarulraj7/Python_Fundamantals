{
 "cells": [
  {
   "cell_type": "code",
   "execution_count": null,
   "id": "4f0698cc",
   "metadata": {},
   "outputs": [],
   "source": [
    "Continuation with string datatypes:"
   ]
  },
  {
   "cell_type": "code",
   "execution_count": null,
   "id": "8871af51",
   "metadata": {},
   "outputs": [],
   "source": [
    "uderstanding of concept of strings:"
   ]
  },
  {
   "cell_type": "code",
   "execution_count": null,
   "id": "46d2a1bf",
   "metadata": {},
   "outputs": [],
   "source": [
    "firstname = 'praveen'\n",
    "lastname = 'kumar'"
   ]
  },
  {
   "cell_type": "code",
   "execution_count": null,
   "id": "40ac41ef",
   "metadata": {},
   "outputs": [],
   "source": [
    "# i want fullname..........?"
   ]
  },
  {
   "cell_type": "code",
   "execution_count": null,
   "id": "fdc9574d",
   "metadata": {},
   "outputs": [],
   "source": [
    "f strings :\n",
    "# genral syntax of f strings :\n",
    "\n",
    "f\"custom message, {place_holder1} {place_holder2}.....{place_holder n}\"\n"
   ]
  },
  {
   "cell_type": "code",
   "execution_count": 17,
   "id": "8e53fb53",
   "metadata": {},
   "outputs": [
    {
     "ename": "NameError",
     "evalue": "name 'firstname' is not defined",
     "output_type": "error",
     "traceback": [
      "\u001b[1;31m---------------------------------------------------------------------------\u001b[0m",
      "\u001b[1;31mNameError\u001b[0m                                 Traceback (most recent call last)",
      "Cell \u001b[1;32mIn[17], line 1\u001b[0m\n\u001b[1;32m----> 1\u001b[0m fullname \u001b[38;5;241m=\u001b[39m \u001b[38;5;124mf\u001b[39m\u001b[38;5;124m\"\u001b[39m\u001b[38;5;124m \u001b[39m\u001b[38;5;132;01m{\u001b[39;00mfirstname\u001b[38;5;132;01m}\u001b[39;00m\u001b[38;5;124m \u001b[39m\u001b[38;5;132;01m{\u001b[39;00mlastname\u001b[38;5;132;01m}\u001b[39;00m\u001b[38;5;124m\"\u001b[39m\n\u001b[0;32m      3\u001b[0m \u001b[38;5;28mprint\u001b[39m(fullname)\n",
      "\u001b[1;31mNameError\u001b[0m: name 'firstname' is not defined"
     ]
    }
   ],
   "source": [
    "fullname = f\"{firstname} {lastname}\"\n",
    "\n",
    "print(fullname)"
   ]
  },
  {
   "cell_type": "code",
   "execution_count": 1,
   "id": "7a7e4913",
   "metadata": {},
   "outputs": [
    {
     "ename": "NameError",
     "evalue": "name 'fullname' is not defined",
     "output_type": "error",
     "traceback": [
      "\u001b[1;31m---------------------------------------------------------------------------\u001b[0m",
      "\u001b[1;31mNameError\u001b[0m                                 Traceback (most recent call last)",
      "Cell \u001b[1;32mIn[1], line 2\u001b[0m\n\u001b[0;32m      1\u001b[0m message \u001b[38;5;241m=\u001b[39m \u001b[38;5;124mf\u001b[39m\u001b[38;5;124m\"\u001b[39m\u001b[38;5;124mkeep up the good work, (fullname)\u001b[39m\u001b[38;5;124m\"\u001b[39m\n\u001b[1;32m----> 2\u001b[0m \u001b[38;5;28mprint\u001b[39m(\u001b[43mfullname\u001b[49m)\n",
      "\u001b[1;31mNameError\u001b[0m: name 'fullname' is not defined"
     ]
    }
   ],
   "source": [
    "message = f\"keep up the good work, (fullname)\"\n",
    "print(fullname)"
   ]
  },
  {
   "cell_type": "code",
   "execution_count": 2,
   "id": "693efa26",
   "metadata": {},
   "outputs": [
    {
     "ename": "SyntaxError",
     "evalue": "unterminated string literal (detected at line 1) (1639606102.py, line 1)",
     "output_type": "error",
     "traceback": [
      "\u001b[1;36m  Cell \u001b[1;32mIn[2], line 1\u001b[1;36m\u001b[0m\n\u001b[1;33m    message = f\"keep up the good work. (fullname.title())\u001b[0m\n\u001b[1;37m              ^\u001b[0m\n\u001b[1;31mSyntaxError\u001b[0m\u001b[1;31m:\u001b[0m unterminated string literal (detected at line 1)\n"
     ]
    }
   ],
   "source": [
    "message = f\"keep up the good work. (fullname.title())\n",
    "print(fullname)"
   ]
  },
  {
   "cell_type": "code",
   "execution_count": null,
   "id": "2bdf1853",
   "metadata": {},
   "outputs": [],
   "source": [
    "adding whitespace in strings:"
   ]
  },
  {
   "cell_type": "code",
   "execution_count": null,
   "id": "34fbecae",
   "metadata": {},
   "outputs": [],
   "source": []
  },
  {
   "cell_type": "code",
   "execution_count": null,
   "id": "6ecdcbc2",
   "metadata": {},
   "outputs": [],
   "source": [
    "#"
   ]
  },
  {
   "cell_type": "code",
   "execution_count": 3,
   "id": "bb723efa",
   "metadata": {},
   "outputs": [
    {
     "name": "stdout",
     "output_type": "stream",
     "text": [
      "fav_lang:pythonjavacc++swiftjavascript\n"
     ]
    }
   ],
   "source": [
    "print(\"fav_lang:pythonjavacc++swiftjavascript\")"
   ]
  },
  {
   "cell_type": "code",
   "execution_count": null,
   "id": "44f86184",
   "metadata": {},
   "outputs": [],
   "source": []
  },
  {
   "cell_type": "code",
   "execution_count": 4,
   "id": "a6675060",
   "metadata": {},
   "outputs": [
    {
     "name": "stdout",
     "output_type": "stream",
     "text": [
      "fav_lang:\n",
      "python\n",
      "java\n",
      "c++\n",
      "swift\n",
      "javascript\n"
     ]
    }
   ],
   "source": [
    "print(\"fav_lang:\\npython\\njava\\nc++\\nswift\\njavascript\")"
   ]
  },
  {
   "cell_type": "code",
   "execution_count": null,
   "id": "eefb1ef0",
   "metadata": {},
   "outputs": [],
   "source": [
    "\\n ===> new line delimiter"
   ]
  },
  {
   "cell_type": "code",
   "execution_count": 6,
   "id": "d7ca440d",
   "metadata": {},
   "outputs": [
    {
     "name": "stdout",
     "output_type": "stream",
     "text": [
      "fav_lang:\n",
      "\tpython\n",
      "\tjava\n",
      "\tc++\n",
      "\tswift\n",
      "\tjavascript\n"
     ]
    }
   ],
   "source": [
    "print(\"fav_lang:\\n\\tpython\\n\\tjava\\n\\tc++\\n\\tswift\\n\\tjavascript\")"
   ]
  },
  {
   "cell_type": "code",
   "execution_count": null,
   "id": "bade50a6",
   "metadata": {},
   "outputs": [],
   "source": []
  },
  {
   "cell_type": "code",
   "execution_count": null,
   "id": "4ea6aadb",
   "metadata": {},
   "outputs": [],
   "source": [
    "\\t ===> tap delimiter"
   ]
  },
  {
   "cell_type": "code",
   "execution_count": null,
   "id": "66dbe939",
   "metadata": {},
   "outputs": [],
   "source": []
  },
  {
   "cell_type": "code",
   "execution_count": null,
   "id": "be678c7c",
   "metadata": {},
   "outputs": [],
   "source": [
    "removing whitespace in strings:"
   ]
  },
  {
   "cell_type": "code",
   "execution_count": null,
   "id": "72de8464",
   "metadata": {},
   "outputs": [],
   "source": []
  },
  {
   "cell_type": "code",
   "execution_count": 7,
   "id": "8c7214e1",
   "metadata": {},
   "outputs": [
    {
     "name": "stdout",
     "output_type": "stream",
     "text": [
      " python\n"
     ]
    }
   ],
   "source": [
    "language = ' python'\n",
    "print(language)"
   ]
  },
  {
   "cell_type": "code",
   "execution_count": null,
   "id": "948c9132",
   "metadata": {},
   "outputs": [],
   "source": []
  },
  {
   "cell_type": "code",
   "execution_count": 8,
   "id": "6b592014",
   "metadata": {},
   "outputs": [
    {
     "name": "stdout",
     "output_type": "stream",
     "text": [
      "python \n"
     ]
    }
   ],
   "source": [
    "language2 = 'python '\n",
    "print(language2)\n"
   ]
  },
  {
   "cell_type": "code",
   "execution_count": 9,
   "id": "ce76d3c4",
   "metadata": {},
   "outputs": [
    {
     "name": "stdout",
     "output_type": "stream",
     "text": [
      " python \n"
     ]
    }
   ],
   "source": [
    "language3 = ' python '\n",
    "print(language3)\n"
   ]
  },
  {
   "cell_type": "code",
   "execution_count": 10,
   "id": "2876003f",
   "metadata": {},
   "outputs": [
    {
     "data": {
      "text/plain": [
       "'python'"
      ]
     },
     "execution_count": 10,
     "metadata": {},
     "output_type": "execute_result"
    }
   ],
   "source": [
    "language.lstrip()"
   ]
  },
  {
   "cell_type": "code",
   "execution_count": 13,
   "id": "42be96a5",
   "metadata": {},
   "outputs": [
    {
     "data": {
      "text/plain": [
       "'python'"
      ]
     },
     "execution_count": 13,
     "metadata": {},
     "output_type": "execute_result"
    }
   ],
   "source": [
    "language2.rstrip()"
   ]
  },
  {
   "cell_type": "code",
   "execution_count": 14,
   "id": "ac8628cd",
   "metadata": {},
   "outputs": [
    {
     "data": {
      "text/plain": [
       "'python'"
      ]
     },
     "execution_count": 14,
     "metadata": {},
     "output_type": "execute_result"
    }
   ],
   "source": [
    "language3.strip()"
   ]
  },
  {
   "cell_type": "code",
   "execution_count": null,
   "id": "696a6e61",
   "metadata": {},
   "outputs": [],
   "source": []
  }
 ],
 "metadata": {
  "kernelspec": {
   "display_name": "Python 3 (ipykernel)",
   "language": "python",
   "name": "python3"
  },
  "language_info": {
   "codemirror_mode": {
    "name": "ipython",
    "version": 3
   },
   "file_extension": ".py",
   "mimetype": "text/x-python",
   "name": "python",
   "nbconvert_exporter": "python",
   "pygments_lexer": "ipython3",
   "version": "3.10.9"
  }
 },
 "nbformat": 4,
 "nbformat_minor": 5
}
